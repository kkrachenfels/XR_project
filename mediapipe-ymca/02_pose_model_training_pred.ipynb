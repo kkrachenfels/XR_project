{
 "cells": [
  {
   "cell_type": "markdown",
   "id": "5fb1eb79",
   "metadata": {},
   "source": [
    "# YMCA Pose Model Training"
   ]
  },
  {
   "cell_type": "markdown",
   "id": "cf72f903",
   "metadata": {},
   "source": [
    "Train a multinomial LogisticRegression algorithm on the collected data."
   ]
  },
  {
   "cell_type": "code",
   "execution_count": 1,
   "id": "d789d97a",
   "metadata": {},
   "outputs": [],
   "source": [
    "from sklearn.linear_model import LogisticRegression\n",
    "import pandas as pd\n",
    "from sklearn.model_selection import GridSearchCV\n",
    "from sklearn.preprocessing import LabelEncoder, StandardScaler\n",
    "from sklearn.pipeline import make_pipeline\n",
    "\n",
    "import warnings\n",
    "warnings.filterwarnings(\"ignore\")"
   ]
  },
  {
   "cell_type": "code",
   "execution_count": null,
   "id": "d4703320",
   "metadata": {},
   "outputs": [],
   "source": []
  },
  {
   "cell_type": "code",
   "execution_count": 2,
   "id": "fa932e1f",
   "metadata": {},
   "outputs": [],
   "source": [
    "def get_data(file_name):\n",
    "    \"\"\"\n",
    "    read training.csv and return the X,y as series\n",
    "    :return: X - the data representing the road view\n",
    "             y - what turn value\n",
    "    \"\"\"\n",
    "    df = pd.read_csv(f'data/{file_name}', header=None)\n",
    "#     print(df.head())\n",
    "    X = df.loc[:, 1:]\n",
    "    y = df.loc[:, 0]\n",
    "    # print(X.shape)\n",
    "    # print(y.shape)\n",
    "    classes = []\n",
    "    if y.dtype == object:\n",
    "        # then we need to labelbinarize it\n",
    "        le = LabelEncoder()\n",
    "        y_notused = le.fit_transform(y)\n",
    "        classes = le.classes_\n",
    "\n",
    "    return X, y, classes\n"
   ]
  },
  {
   "cell_type": "code",
   "execution_count": 3,
   "id": "1394df11",
   "metadata": {},
   "outputs": [],
   "source": [
    "X, y, classes = get_data(\"ymca_training.csv\")"
   ]
  },
  {
   "cell_type": "code",
   "execution_count": 4,
   "id": "7e91e1ca",
   "metadata": {},
   "outputs": [
    {
     "data": {
      "text/html": [
       "<div>\n",
       "<style scoped>\n",
       "    .dataframe tbody tr th:only-of-type {\n",
       "        vertical-align: middle;\n",
       "    }\n",
       "\n",
       "    .dataframe tbody tr th {\n",
       "        vertical-align: top;\n",
       "    }\n",
       "\n",
       "    .dataframe thead th {\n",
       "        text-align: right;\n",
       "    }\n",
       "</style>\n",
       "<table border=\"1\" class=\"dataframe\">\n",
       "  <thead>\n",
       "    <tr style=\"text-align: right;\">\n",
       "      <th></th>\n",
       "      <th>1</th>\n",
       "      <th>2</th>\n",
       "      <th>3</th>\n",
       "      <th>4</th>\n",
       "      <th>5</th>\n",
       "      <th>6</th>\n",
       "      <th>7</th>\n",
       "      <th>8</th>\n",
       "      <th>9</th>\n",
       "      <th>10</th>\n",
       "      <th>11</th>\n",
       "      <th>12</th>\n",
       "      <th>13</th>\n",
       "      <th>14</th>\n",
       "      <th>15</th>\n",
       "      <th>16</th>\n",
       "      <th>17</th>\n",
       "      <th>18</th>\n",
       "    </tr>\n",
       "  </thead>\n",
       "  <tbody>\n",
       "    <tr>\n",
       "      <th>0</th>\n",
       "      <td>0.561728</td>\n",
       "      <td>0.771587</td>\n",
       "      <td>-0.162252</td>\n",
       "      <td>0.436373</td>\n",
       "      <td>0.765288</td>\n",
       "      <td>-0.192959</td>\n",
       "      <td>0.597814</td>\n",
       "      <td>0.907482</td>\n",
       "      <td>-0.184370</td>\n",
       "      <td>0.379148</td>\n",
       "      <td>0.898178</td>\n",
       "      <td>-0.220386</td>\n",
       "      <td>0.626990</td>\n",
       "      <td>1.002246</td>\n",
       "      <td>-0.325643</td>\n",
       "      <td>0.382508</td>\n",
       "      <td>1.036272</td>\n",
       "      <td>-0.322547</td>\n",
       "    </tr>\n",
       "    <tr>\n",
       "      <th>1</th>\n",
       "      <td>0.551079</td>\n",
       "      <td>0.761984</td>\n",
       "      <td>-0.039519</td>\n",
       "      <td>0.432480</td>\n",
       "      <td>0.753380</td>\n",
       "      <td>-0.034821</td>\n",
       "      <td>0.626731</td>\n",
       "      <td>0.830323</td>\n",
       "      <td>-0.214382</td>\n",
       "      <td>0.371372</td>\n",
       "      <td>0.817650</td>\n",
       "      <td>-0.230957</td>\n",
       "      <td>0.649688</td>\n",
       "      <td>0.800309</td>\n",
       "      <td>-0.455547</td>\n",
       "      <td>0.343538</td>\n",
       "      <td>0.817020</td>\n",
       "      <td>-0.526281</td>\n",
       "    </tr>\n",
       "    <tr>\n",
       "      <th>2</th>\n",
       "      <td>0.544549</td>\n",
       "      <td>0.760656</td>\n",
       "      <td>-0.034900</td>\n",
       "      <td>0.428598</td>\n",
       "      <td>0.756397</td>\n",
       "      <td>-0.028312</td>\n",
       "      <td>0.630615</td>\n",
       "      <td>0.749785</td>\n",
       "      <td>-0.210157</td>\n",
       "      <td>0.350203</td>\n",
       "      <td>0.784802</td>\n",
       "      <td>-0.218243</td>\n",
       "      <td>0.644441</td>\n",
       "      <td>0.682965</td>\n",
       "      <td>-0.422997</td>\n",
       "      <td>0.334618</td>\n",
       "      <td>0.700532</td>\n",
       "      <td>-0.436179</td>\n",
       "    </tr>\n",
       "    <tr>\n",
       "      <th>3</th>\n",
       "      <td>0.537734</td>\n",
       "      <td>0.753881</td>\n",
       "      <td>0.045089</td>\n",
       "      <td>0.425675</td>\n",
       "      <td>0.749667</td>\n",
       "      <td>0.044266</td>\n",
       "      <td>0.622343</td>\n",
       "      <td>0.720850</td>\n",
       "      <td>-0.056557</td>\n",
       "      <td>0.348894</td>\n",
       "      <td>0.736559</td>\n",
       "      <td>-0.049486</td>\n",
       "      <td>0.644950</td>\n",
       "      <td>0.618357</td>\n",
       "      <td>-0.227115</td>\n",
       "      <td>0.328643</td>\n",
       "      <td>0.628556</td>\n",
       "      <td>-0.184775</td>\n",
       "    </tr>\n",
       "    <tr>\n",
       "      <th>4</th>\n",
       "      <td>0.530375</td>\n",
       "      <td>0.736013</td>\n",
       "      <td>-0.238045</td>\n",
       "      <td>0.426229</td>\n",
       "      <td>0.739088</td>\n",
       "      <td>-0.164763</td>\n",
       "      <td>0.599038</td>\n",
       "      <td>0.680531</td>\n",
       "      <td>-0.326870</td>\n",
       "      <td>0.348011</td>\n",
       "      <td>0.710933</td>\n",
       "      <td>-0.169867</td>\n",
       "      <td>0.629410</td>\n",
       "      <td>0.550343</td>\n",
       "      <td>-0.439407</td>\n",
       "      <td>0.329981</td>\n",
       "      <td>0.583502</td>\n",
       "      <td>-0.280747</td>\n",
       "    </tr>\n",
       "    <tr>\n",
       "      <th>...</th>\n",
       "      <td>...</td>\n",
       "      <td>...</td>\n",
       "      <td>...</td>\n",
       "      <td>...</td>\n",
       "      <td>...</td>\n",
       "      <td>...</td>\n",
       "      <td>...</td>\n",
       "      <td>...</td>\n",
       "      <td>...</td>\n",
       "      <td>...</td>\n",
       "      <td>...</td>\n",
       "      <td>...</td>\n",
       "      <td>...</td>\n",
       "      <td>...</td>\n",
       "      <td>...</td>\n",
       "      <td>...</td>\n",
       "      <td>...</td>\n",
       "      <td>...</td>\n",
       "    </tr>\n",
       "    <tr>\n",
       "      <th>2730</th>\n",
       "      <td>0.596576</td>\n",
       "      <td>0.418279</td>\n",
       "      <td>-0.101931</td>\n",
       "      <td>0.417590</td>\n",
       "      <td>0.420099</td>\n",
       "      <td>-0.076686</td>\n",
       "      <td>0.730446</td>\n",
       "      <td>0.392611</td>\n",
       "      <td>-0.263164</td>\n",
       "      <td>0.285284</td>\n",
       "      <td>0.425948</td>\n",
       "      <td>-0.254256</td>\n",
       "      <td>0.624012</td>\n",
       "      <td>0.262082</td>\n",
       "      <td>-0.313953</td>\n",
       "      <td>0.372351</td>\n",
       "      <td>0.303846</td>\n",
       "      <td>-0.262556</td>\n",
       "    </tr>\n",
       "    <tr>\n",
       "      <th>2731</th>\n",
       "      <td>0.599782</td>\n",
       "      <td>0.417877</td>\n",
       "      <td>-0.101922</td>\n",
       "      <td>0.418046</td>\n",
       "      <td>0.418203</td>\n",
       "      <td>-0.088106</td>\n",
       "      <td>0.735210</td>\n",
       "      <td>0.402261</td>\n",
       "      <td>-0.248099</td>\n",
       "      <td>0.287979</td>\n",
       "      <td>0.421756</td>\n",
       "      <td>-0.255778</td>\n",
       "      <td>0.626346</td>\n",
       "      <td>0.268012</td>\n",
       "      <td>-0.276362</td>\n",
       "      <td>0.375217</td>\n",
       "      <td>0.298596</td>\n",
       "      <td>-0.236444</td>\n",
       "    </tr>\n",
       "    <tr>\n",
       "      <th>2732</th>\n",
       "      <td>0.604329</td>\n",
       "      <td>0.410070</td>\n",
       "      <td>-0.099348</td>\n",
       "      <td>0.422566</td>\n",
       "      <td>0.414207</td>\n",
       "      <td>-0.081391</td>\n",
       "      <td>0.740079</td>\n",
       "      <td>0.401420</td>\n",
       "      <td>-0.224092</td>\n",
       "      <td>0.293555</td>\n",
       "      <td>0.405108</td>\n",
       "      <td>-0.224094</td>\n",
       "      <td>0.638126</td>\n",
       "      <td>0.268476</td>\n",
       "      <td>-0.232376</td>\n",
       "      <td>0.379879</td>\n",
       "      <td>0.281148</td>\n",
       "      <td>-0.135601</td>\n",
       "    </tr>\n",
       "    <tr>\n",
       "      <th>2733</th>\n",
       "      <td>0.605879</td>\n",
       "      <td>0.407112</td>\n",
       "      <td>-0.112233</td>\n",
       "      <td>0.423121</td>\n",
       "      <td>0.412330</td>\n",
       "      <td>-0.097919</td>\n",
       "      <td>0.744672</td>\n",
       "      <td>0.397736</td>\n",
       "      <td>-0.258928</td>\n",
       "      <td>0.294266</td>\n",
       "      <td>0.400259</td>\n",
       "      <td>-0.278894</td>\n",
       "      <td>0.648069</td>\n",
       "      <td>0.268211</td>\n",
       "      <td>-0.288286</td>\n",
       "      <td>0.382379</td>\n",
       "      <td>0.276100</td>\n",
       "      <td>-0.246851</td>\n",
       "    </tr>\n",
       "    <tr>\n",
       "      <th>2734</th>\n",
       "      <td>0.606401</td>\n",
       "      <td>0.408503</td>\n",
       "      <td>-0.105176</td>\n",
       "      <td>0.424156</td>\n",
       "      <td>0.409789</td>\n",
       "      <td>-0.082370</td>\n",
       "      <td>0.746299</td>\n",
       "      <td>0.396182</td>\n",
       "      <td>-0.235892</td>\n",
       "      <td>0.292437</td>\n",
       "      <td>0.384931</td>\n",
       "      <td>-0.228164</td>\n",
       "      <td>0.655139</td>\n",
       "      <td>0.268119</td>\n",
       "      <td>-0.254508</td>\n",
       "      <td>0.376980</td>\n",
       "      <td>0.269244</td>\n",
       "      <td>-0.182004</td>\n",
       "    </tr>\n",
       "  </tbody>\n",
       "</table>\n",
       "<p>2735 rows × 18 columns</p>\n",
       "</div>"
      ],
      "text/plain": [
       "            1         2         3         4         5         6         7   \\\n",
       "0     0.561728  0.771587 -0.162252  0.436373  0.765288 -0.192959  0.597814   \n",
       "1     0.551079  0.761984 -0.039519  0.432480  0.753380 -0.034821  0.626731   \n",
       "2     0.544549  0.760656 -0.034900  0.428598  0.756397 -0.028312  0.630615   \n",
       "3     0.537734  0.753881  0.045089  0.425675  0.749667  0.044266  0.622343   \n",
       "4     0.530375  0.736013 -0.238045  0.426229  0.739088 -0.164763  0.599038   \n",
       "...        ...       ...       ...       ...       ...       ...       ...   \n",
       "2730  0.596576  0.418279 -0.101931  0.417590  0.420099 -0.076686  0.730446   \n",
       "2731  0.599782  0.417877 -0.101922  0.418046  0.418203 -0.088106  0.735210   \n",
       "2732  0.604329  0.410070 -0.099348  0.422566  0.414207 -0.081391  0.740079   \n",
       "2733  0.605879  0.407112 -0.112233  0.423121  0.412330 -0.097919  0.744672   \n",
       "2734  0.606401  0.408503 -0.105176  0.424156  0.409789 -0.082370  0.746299   \n",
       "\n",
       "            8         9         10        11        12        13        14  \\\n",
       "0     0.907482 -0.184370  0.379148  0.898178 -0.220386  0.626990  1.002246   \n",
       "1     0.830323 -0.214382  0.371372  0.817650 -0.230957  0.649688  0.800309   \n",
       "2     0.749785 -0.210157  0.350203  0.784802 -0.218243  0.644441  0.682965   \n",
       "3     0.720850 -0.056557  0.348894  0.736559 -0.049486  0.644950  0.618357   \n",
       "4     0.680531 -0.326870  0.348011  0.710933 -0.169867  0.629410  0.550343   \n",
       "...        ...       ...       ...       ...       ...       ...       ...   \n",
       "2730  0.392611 -0.263164  0.285284  0.425948 -0.254256  0.624012  0.262082   \n",
       "2731  0.402261 -0.248099  0.287979  0.421756 -0.255778  0.626346  0.268012   \n",
       "2732  0.401420 -0.224092  0.293555  0.405108 -0.224094  0.638126  0.268476   \n",
       "2733  0.397736 -0.258928  0.294266  0.400259 -0.278894  0.648069  0.268211   \n",
       "2734  0.396182 -0.235892  0.292437  0.384931 -0.228164  0.655139  0.268119   \n",
       "\n",
       "            15        16        17        18  \n",
       "0    -0.325643  0.382508  1.036272 -0.322547  \n",
       "1    -0.455547  0.343538  0.817020 -0.526281  \n",
       "2    -0.422997  0.334618  0.700532 -0.436179  \n",
       "3    -0.227115  0.328643  0.628556 -0.184775  \n",
       "4    -0.439407  0.329981  0.583502 -0.280747  \n",
       "...        ...       ...       ...       ...  \n",
       "2730 -0.313953  0.372351  0.303846 -0.262556  \n",
       "2731 -0.276362  0.375217  0.298596 -0.236444  \n",
       "2732 -0.232376  0.379879  0.281148 -0.135601  \n",
       "2733 -0.288286  0.382379  0.276100 -0.246851  \n",
       "2734 -0.254508  0.376980  0.269244 -0.182004  \n",
       "\n",
       "[2735 rows x 18 columns]"
      ]
     },
     "execution_count": 4,
     "metadata": {},
     "output_type": "execute_result"
    }
   ],
   "source": [
    "X"
   ]
  },
  {
   "cell_type": "code",
   "execution_count": 5,
   "id": "38382410",
   "metadata": {},
   "outputs": [
    {
     "data": {
      "text/plain": [
       "0       Y\n",
       "1       Y\n",
       "2       Y\n",
       "3       Y\n",
       "4       Y\n",
       "       ..\n",
       "2730    M\n",
       "2731    M\n",
       "2732    M\n",
       "2733    M\n",
       "2734    M\n",
       "Name: 0, Length: 2735, dtype: object"
      ]
     },
     "execution_count": 5,
     "metadata": {},
     "output_type": "execute_result"
    }
   ],
   "source": [
    "y"
   ]
  },
  {
   "cell_type": "code",
   "execution_count": 6,
   "id": "e069cc63",
   "metadata": {},
   "outputs": [
    {
     "data": {
      "text/plain": [
       "array(['A', 'C', 'M', 'Y', 'dance'], dtype=object)"
      ]
     },
     "execution_count": 6,
     "metadata": {},
     "output_type": "execute_result"
    }
   ],
   "source": [
    "classes"
   ]
  },
  {
   "cell_type": "markdown",
   "id": "fd678564",
   "metadata": {},
   "source": [
    "## Create Model Pipeline"
   ]
  },
  {
   "cell_type": "code",
   "execution_count": 7,
   "id": "ced16fe9",
   "metadata": {},
   "outputs": [],
   "source": [
    "logreg = LogisticRegression(multi_class='multinomial')"
   ]
  },
  {
   "cell_type": "code",
   "execution_count": 8,
   "id": "7167c8f3",
   "metadata": {},
   "outputs": [],
   "source": [
    "pipeline = make_pipeline(StandardScaler(), logreg)"
   ]
  },
  {
   "cell_type": "code",
   "execution_count": 9,
   "id": "7b5add25",
   "metadata": {},
   "outputs": [],
   "source": [
    "param_grid = dict(logisticregression__penalty=['l2'], \n",
    "                  logisticregression__C=[10, 1, 0.1, 0.01], \n",
    "                  logisticregression__solver=['newton-cg', 'sag', 'lbfgs'],\n",
    "                   logisticregression__max_iter=[100, 200, 300]),\n"
   ]
  },
  {
   "cell_type": "code",
   "execution_count": 10,
   "id": "690b3a5a",
   "metadata": {},
   "outputs": [
    {
     "data": {
      "text/plain": [
       "GridSearchCV(cv=5,\n",
       "             estimator=Pipeline(steps=[('standardscaler', StandardScaler()),\n",
       "                                       ('logisticregression',\n",
       "                                        LogisticRegression(multi_class='multinomial'))]),\n",
       "             param_grid=({'logisticregression__C': [10, 1, 0.1, 0.01],\n",
       "                          'logisticregression__max_iter': [100, 200, 300],\n",
       "                          'logisticregression__penalty': ['l2'],\n",
       "                          'logisticregression__solver': ['newton-cg', 'sag',\n",
       "                                                         'lbfgs']},))"
      ]
     },
     "execution_count": 10,
     "metadata": {},
     "output_type": "execute_result"
    }
   ],
   "source": [
    "grid = GridSearchCV(pipeline, param_grid, cv=5)\n",
    "grid.fit(X, y)\n"
   ]
  },
  {
   "cell_type": "code",
   "execution_count": 11,
   "id": "bdd79514",
   "metadata": {},
   "outputs": [
    {
     "name": "stdout",
     "output_type": "stream",
     "text": [
      "0.9875685557586837\n",
      "{'logisticregression__C': 10, 'logisticregression__max_iter': 100, 'logisticregression__penalty': 'l2', 'logisticregression__solver': 'newton-cg'}\n",
      "Pipeline(steps=[('standardscaler', StandardScaler()),\n",
      "                ('logisticregression',\n",
      "                 LogisticRegression(C=10, multi_class='multinomial',\n",
      "                                    solver='newton-cg'))])\n"
     ]
    }
   ],
   "source": [
    "print(grid.best_score_)\n",
    "print(grid.best_params_)\n",
    "print(grid.best_estimator_)\n",
    "best_model = grid.best_estimator_\n",
    "best_params = grid.best_params_\n",
    "best_score = grid.best_score_\n",
    "\n"
   ]
  },
  {
   "cell_type": "markdown",
   "id": "3e91c572",
   "metadata": {},
   "source": [
    "## Model Prediction\n",
    "\n",
    "Yes - I realize I am using data from the training to do the prediction.  This section is for demo purposes only"
   ]
  },
  {
   "cell_type": "code",
   "execution_count": 12,
   "id": "ef2e8db5",
   "metadata": {},
   "outputs": [
    {
     "data": {
      "text/plain": [
       "(2735, 18)"
      ]
     },
     "execution_count": 12,
     "metadata": {},
     "output_type": "execute_result"
    }
   ],
   "source": [
    "X.shape"
   ]
  },
  {
   "cell_type": "code",
   "execution_count": 13,
   "id": "ec5bc931",
   "metadata": {},
   "outputs": [
    {
     "name": "stdout",
     "output_type": "stream",
     "text": [
      "Actual Label: A\n",
      "Pred Label: A\n"
     ]
    }
   ],
   "source": [
    "import random\n",
    "index = random.randint(0, X.shape[0])\n",
    "x_new = X.iloc[index]\n",
    "y_actual = y.iloc[index]\n",
    "print(f\"Actual Label: {y_actual}\")\n",
    "pred = best_model.predict([x_new])\n",
    "print(f\"Pred Label: {pred[0]}\")"
   ]
  },
  {
   "cell_type": "code",
   "execution_count": null,
   "id": "47f84e7a",
   "metadata": {},
   "outputs": [],
   "source": []
  }
 ],
 "metadata": {
  "kernelspec": {
   "display_name": "Python 3 (ipykernel)",
   "language": "python",
   "name": "python3"
  },
  "language_info": {
   "codemirror_mode": {
    "name": "ipython",
    "version": 3
   },
   "file_extension": ".py",
   "mimetype": "text/x-python",
   "name": "python",
   "nbconvert_exporter": "python",
   "pygments_lexer": "ipython3",
   "version": "3.8.5"
  },
  "toc": {
   "base_numbering": 1,
   "nav_menu": {},
   "number_sections": true,
   "sideBar": true,
   "skip_h1_title": false,
   "title_cell": "Table of Contents",
   "title_sidebar": "Contents",
   "toc_cell": false,
   "toc_position": {},
   "toc_section_display": true,
   "toc_window_display": false
  }
 },
 "nbformat": 4,
 "nbformat_minor": 5
}
